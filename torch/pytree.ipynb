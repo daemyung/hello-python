{
 "cells": [
  {
   "cell_type": "markdown",
   "source": [
    "# Learn PyTree!\n",
    "\n",
    "PyTree is a utility module to handle the tree structure easily in PyTorch. The tree structure build out of container objects in Python.\n",
    "Container objects can be anything if they are in PyTree registry. `tuple`, `list`, `dict`, `namedtuple`, `OrderedDict`, `defaultdict`\n",
    "and `deque` are already in PyTree registry.\n",
    "\n",
    "In PyTree, there are two major rules. That are:\n",
    "\n",
    "1. Any object whose type is not in PyTree registry is considered a leaf.\n",
    "2. Any object whose type is in PyTree registry is considered a node. \n",
    "\n",
    "Let's deep dive into PyTree."
   ],
   "metadata": {
    "collapsed": false
   },
   "id": "863d0990498e02f8"
  },
  {
   "cell_type": "code",
   "outputs": [],
   "source": [
    "# noinspection PyProtectedMember\n",
    "import torch.utils._pytree as pytree"
   ],
   "metadata": {
    "collapsed": true,
    "ExecuteTime": {
     "end_time": "2024-03-08T06:54:18.068934Z",
     "start_time": "2024-03-08T06:54:17.079525Z"
    }
   },
   "id": "initial_id",
   "execution_count": 1
  },
  {
   "cell_type": "markdown",
   "source": [
    "First, let's check a first major rule. `tuple` and `list` are nodes because these are in PyTree registry."
   ],
   "metadata": {
    "collapsed": false
   },
   "id": "23b3ae941fda67d7"
  },
  {
   "cell_type": "code",
   "outputs": [
    {
     "name": "stdout",
     "output_type": "stream",
     "text": [
      "Is list a node? Yes.\n",
      "Is dict a node? Yes.\n"
     ]
    }
   ],
   "source": [
    "# noinspection PyProtectedMember\n",
    "print(f'Is list a node? {\"Yes\" if not pytree._is_leaf(list()) else \"No\"}.')\n",
    "# noinspection PyProtectedMember\n",
    "print(f'Is dict a node? {\"Yes\" if not pytree._is_leaf(dict()) else \"No\"}.')"
   ],
   "metadata": {
    "collapsed": false,
    "ExecuteTime": {
     "end_time": "2024-03-08T06:54:18.072020Z",
     "start_time": "2024-03-08T06:54:18.069887Z"
    }
   },
   "id": "8efb17bb1b00c869",
   "execution_count": 2
  },
  {
   "cell_type": "markdown",
   "source": [
    "Let's check a second major rule."
   ],
   "metadata": {
    "collapsed": false
   },
   "id": "e52b03ea21557048"
  },
  {
   "cell_type": "code",
   "outputs": [
    {
     "name": "stdout",
     "output_type": "stream",
     "text": [
      "Is Foo a node? No.\n"
     ]
    }
   ],
   "source": [
    "class Foo:\n",
    "    pass\n",
    "\n",
    "# noinspection PyProtectedMember\n",
    "print(f'Is Foo a node? {\"Yes\" if not pytree._is_leaf(Foo()) else \"No\"}.')"
   ],
   "metadata": {
    "collapsed": false,
    "ExecuteTime": {
     "end_time": "2024-03-08T06:54:18.074463Z",
     "start_time": "2024-03-08T06:54:18.072756Z"
    }
   },
   "id": "ef7001a57a956673",
   "execution_count": 3
  },
  {
   "cell_type": "markdown",
   "source": [
    "Easy. Now let's check how can we leverage PyTree in our coding."
   ],
   "metadata": {
    "collapsed": false
   },
   "id": "749c3a59c5602144"
  },
  {
   "cell_type": "code",
   "outputs": [
    {
     "name": "stdout",
     "output_type": "stream",
     "text": [
      "leaves: [0, 1, 10, 11, 12, 13, 20, 21, 22, 23, 30, 3]\n",
      "numbers: [1, 2, [11, 12, 13, 14], (21, 22, 23, 24), {'0': 31}, 4]\n"
     ]
    }
   ],
   "source": [
    "numbers = [0,\n",
    "           1,\n",
    "           [10, 11, 12, 13],\n",
    "           (20, 21, 22, 23),\n",
    "           {'0': 30},\n",
    "           3]\n",
    "\n",
    "# I want to add 1 to every number in numbers. It can be hard because we need to access children recursively.\n",
    "# There is PyTree to help you.\n",
    "\n",
    "leaves, spec = pytree.tree_flatten(numbers)\n",
    "print(f'leaves: {leaves}')\n",
    "\n",
    "for i, leaf in enumerate(leaves):\n",
    "    leaves[i] = leaf + 1\n",
    "\n",
    "numbers = pytree.tree_unflatten(leaves, spec)\n",
    "print(f'numbers: {numbers}')"
   ],
   "metadata": {
    "collapsed": false,
    "ExecuteTime": {
     "end_time": "2024-03-08T06:54:18.077513Z",
     "start_time": "2024-03-08T06:54:18.075116Z"
    }
   },
   "id": "f2f3653ad8858f40",
   "execution_count": 4
  },
  {
   "cell_type": "markdown",
   "source": [
    "By the way, what's `spec`? The type of `spec` is `TreeSpec`. It can be used to reconstruct the tree.\n",
    "Let's print it out."
   ],
   "metadata": {
    "collapsed": false
   },
   "id": "a6a360e069f3f65a"
  },
  {
   "cell_type": "code",
   "outputs": [
    {
     "name": "stdout",
     "output_type": "stream",
     "text": [
      "spec: TreeSpec(list, None, [*,\n",
      "  *,\n",
      "  TreeSpec(list, None, [*,\n",
      "    *,\n",
      "    *,\n",
      "    *]),\n",
      "  TreeSpec(tuple, None, [*,\n",
      "    *,\n",
      "    *,\n",
      "    *]),\n",
      "  TreeSpec(dict, ['0'], [*]),\n",
      "  *])\n"
     ]
    }
   ],
   "source": [
    "print(f'spec: {spec}')"
   ],
   "metadata": {
    "collapsed": false,
    "ExecuteTime": {
     "end_time": "2024-03-08T06:54:18.080516Z",
     "start_time": "2024-03-08T06:54:18.078850Z"
    }
   },
   "id": "a176eda4ded8690f",
   "execution_count": 5
  },
  {
   "cell_type": "markdown",
   "source": [
    "It's hard to ready. Let's understand step by step.\n",
    "\n",
    "```python\n",
    "@dataclasses.dataclass\n",
    "class TreeSpec:\n",
    "    type: Any\n",
    "    context: Context\n",
    "    children_specs: List[\"TreeSpec\"]\n",
    "```\n",
    "\n",
    "Upper is a definition of TreeSpec.\n",
    "\n",
    "```\n",
    "TreeSpec(list, None, [*,\n",
    "                      *,\n",
    "                      *,\n",
    "                      *])\n",
    "```\n",
    "\n",
    "Try to understand it with a definition of `TreeSpec`. This represents a node. The type of node is `list` and no context.\n",
    "This node has four children. This spec builds out of `[10, 11, 12, 13]`. Now we can read."
   ],
   "metadata": {
    "collapsed": false
   },
   "id": "5e5dddfa8f331749"
  },
  {
   "cell_type": "markdown",
   "source": [
    "PyTree provides many utility functions. We can more easily add 1 to every number in numbers."
   ],
   "metadata": {
    "collapsed": false
   },
   "id": "3b897dc6232f21b6"
  },
  {
   "cell_type": "code",
   "outputs": [
    {
     "name": "stdout",
     "output_type": "stream",
     "text": [
      "[2, 3, [12, 13, 14, 15], (22, 23, 24, 25), {'0': 32}, 5]\n"
     ]
    }
   ],
   "source": [
    "numbers = pytree.tree_map(lambda x: x + 1, numbers)\n",
    "print(numbers)"
   ],
   "metadata": {
    "collapsed": false,
    "ExecuteTime": {
     "end_time": "2024-03-08T06:54:18.082994Z",
     "start_time": "2024-03-08T06:54:18.081227Z"
    }
   },
   "id": "6f2632f0cff389d",
   "execution_count": 6
  },
  {
   "cell_type": "markdown",
   "source": [
    "Now it's time to jump the next level. Let's define a custom class as a node in PyTree."
   ],
   "metadata": {
    "collapsed": false
   },
   "id": "6fd1fb5c290a991a"
  },
  {
   "cell_type": "code",
   "outputs": [
    {
     "name": "stdout",
     "output_type": "stream",
     "text": [
      "Parent([Child(age: 0), Child(age: 0), Child(age: 0))]\n"
     ]
    }
   ],
   "source": [
    "class Child:\n",
    "    def __init__(self, age):\n",
    "        self.age = age\n",
    "        \n",
    "    def __str__(self):\n",
    "        return f'Child(age: {self.age})'\n",
    "\n",
    "class Parent:\n",
    "    def __init__(self, num_children):\n",
    "        self.children = [Child(0) for index in range(0, num_children)] \n",
    "        \n",
    "    def __str__(self):\n",
    "        return f'Parent([{\", \".join(str(child) for child in self.children)})]'\n",
    "    \n",
    "family = Parent(3)\n",
    "print(family)"
   ],
   "metadata": {
    "collapsed": false,
    "ExecuteTime": {
     "end_time": "2024-03-08T06:54:18.086807Z",
     "start_time": "2024-03-08T06:54:18.083712Z"
    }
   },
   "id": "344d65040009620",
   "execution_count": 7
  },
  {
   "cell_type": "markdown",
   "source": [
    "It looks like `Parent` has tree structure. `Parent` is root and `Child` is leaf. Let's check it now. "
   ],
   "metadata": {
    "collapsed": false
   },
   "id": "6f80cbf287ebc4a4"
  },
  {
   "cell_type": "code",
   "outputs": [
    {
     "name": "stdout",
     "output_type": "stream",
     "text": [
      "Is Parent a leaf? Yes.\n"
     ]
    }
   ],
   "source": [
    "# noinspection PyProtectedMember\n",
    "print(f'Is Parent a leaf? {\"Yes\" if pytree._is_leaf(Parent(3)) else \"No\"}.')"
   ],
   "metadata": {
    "collapsed": false,
    "ExecuteTime": {
     "end_time": "2024-03-08T06:54:18.088982Z",
     "start_time": "2024-03-08T06:54:18.087482Z"
    }
   },
   "id": "ab08cea074e9788a",
   "execution_count": 8
  },
  {
   "cell_type": "markdown",
   "source": [
    "It's a leaf. Why? Because `Parent` is not in PyTree registry. We can add `Parent` in PyTree registry using\n",
    "`register_pytree_node`."
   ],
   "metadata": {
    "collapsed": false
   },
   "id": "44a41036271cca6e"
  },
  {
   "cell_type": "code",
   "outputs": [
    {
     "name": "stdout",
     "output_type": "stream",
     "text": [
      "Is Parent a leaf? No.\n"
     ]
    }
   ],
   "source": [
    "from typing import Tuple, List, Iterable\n",
    "\n",
    "def parent_flatten(parent: pytree.PyTree) -> Tuple[List[Child], pytree.Context]:\n",
    "    return parent.children, 'P'\n",
    "\n",
    "def parent_unflatten(children: Iterable[Child], context: pytree.Context) -> pytree.PyTree:\n",
    "    parent = Parent(0)\n",
    "    parent.children = children\n",
    "    return parent\n",
    "\n",
    "pytree.register_pytree_node(Parent, parent_flatten, parent_unflatten)\n",
    "\n",
    "# noinspection PyProtectedMember\n",
    "print(f'Is Parent a leaf? {\"Yes\" if pytree._is_leaf(Parent(3)) else \"No\"}.')"
   ],
   "metadata": {
    "collapsed": false,
    "ExecuteTime": {
     "end_time": "2024-03-08T06:54:18.092623Z",
     "start_time": "2024-03-08T06:54:18.089628Z"
    }
   },
   "id": "5a2a7ad14a718937",
   "execution_count": 9
  },
  {
   "cell_type": "markdown",
   "source": [
    "Let's print out flatten results of `Parent`."
   ],
   "metadata": {
    "collapsed": false
   },
   "id": "f51f64faee958e3b"
  },
  {
   "cell_type": "code",
   "outputs": [
    {
     "name": "stdout",
     "output_type": "stream",
     "text": [
      "leaves: [<__main__.Child object at 0x14a5ebf10>, <__main__.Child object at 0x14a5eb7c0>, <__main__.Child object at 0x14a5d3250>]\n",
      "spec: TreeSpec(Parent, P, [*,\n",
      "  *,\n",
      "  *])\n"
     ]
    }
   ],
   "source": [
    "leaves, spec = pytree.tree_flatten(family)\n",
    "print(f'leaves: {leaves}')\n",
    "print(f'spec: {spec}')"
   ],
   "metadata": {
    "collapsed": false,
    "ExecuteTime": {
     "end_time": "2024-03-08T06:54:18.094806Z",
     "start_time": "2024-03-08T06:54:18.093201Z"
    }
   },
   "id": "77f4da0ca4212c1c",
   "execution_count": 10
  },
  {
   "cell_type": "markdown",
   "source": [
    "Let's use a PyTree's utility function."
   ],
   "metadata": {
    "collapsed": false
   },
   "id": "aecd1cd0a473df56"
  },
  {
   "cell_type": "code",
   "outputs": [
    {
     "name": "stdout",
     "output_type": "stream",
     "text": [
      "Parent([Child(age: 1), Child(age: 1), Child(age: 1))]\n"
     ]
    }
   ],
   "source": [
    "def happy_birthday(child: Child):\n",
    "    child.age = child.age + 1\n",
    "    \n",
    "pytree.tree_map(happy_birthday, family)\n",
    "print(family)"
   ],
   "metadata": {
    "collapsed": false,
    "ExecuteTime": {
     "end_time": "2024-03-08T06:54:18.097259Z",
     "start_time": "2024-03-08T06:54:18.095330Z"
    }
   },
   "id": "b3900054522307e",
   "execution_count": 11
  },
  {
   "cell_type": "markdown",
   "source": [
    "Enjoy!"
   ],
   "metadata": {
    "collapsed": false
   },
   "id": "45004c88240ded70"
  }
 ],
 "metadata": {
  "kernelspec": {
   "display_name": "Python 3",
   "language": "python",
   "name": "python3"
  },
  "language_info": {
   "codemirror_mode": {
    "name": "ipython",
    "version": 2
   },
   "file_extension": ".py",
   "mimetype": "text/x-python",
   "name": "python",
   "nbconvert_exporter": "python",
   "pygments_lexer": "ipython2",
   "version": "2.7.6"
  }
 },
 "nbformat": 4,
 "nbformat_minor": 5
}
